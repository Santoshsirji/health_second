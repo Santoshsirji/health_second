{
 "cells": [
  {
   "cell_type": "markdown",
   "id": "714b93cb",
   "metadata": {},
   "source": [
    "What is a Model?\n",
    "\n",
    "A model is a mathematical structure that: \n",
    "- takes input (an image)\n",
    "- Applies multiple operations (like filters, activations)\n",
    "- Predicts the output (label like \"Normal\" or \"PNEUMONIA\")\n",
    "\n",
    "\n",
    "We'll use a Convolutional Neural Network (CNN) -- best for images. "
   ]
  },
  {
   "cell_type": "markdown",
   "id": "fdbb4002",
   "metadata": {},
   "source": []
  }
 ],
 "metadata": {
  "language_info": {
   "name": "python"
  }
 },
 "nbformat": 4,
 "nbformat_minor": 5
}
